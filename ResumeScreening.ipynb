{
 "cells": [
  {
   "cell_type": "code",
   "execution_count": 27,
   "metadata": {},
   "outputs": [
    {
     "name": "stdout",
     "output_type": "stream",
     "text": [
      "✅ All core libraries imported successfully!\n"
     ]
    }
   ],
   "source": [
    "import numpy, pandas, sklearn, spacy, transformers, flask, streamlit\n",
    "print(\"✅ All core libraries imported successfully!\")"
   ]
  },
  {
   "cell_type": "code",
   "execution_count": 28,
   "id": "e43a0acb",
   "metadata": {},
   "outputs": [
    {
     "name": "stdout",
     "output_type": "stream",
     "text": [
      "Resume: Machine learning engineer skilled in Python, deep learning, and NLP. | Match Score: 0.58\n",
      "Resume: Experienced data scientist with strong Python and NLP background. | Match Score: 0.37\n",
      "Resume: Web developer with expertise in React and JavaScript. | Match Score: 0.11\n"
     ]
    }
   ],
   "source": [
    "from sklearn.feature_extraction.text import TfidfVectorizer\n",
    "from sklearn.metrics.pairwise import cosine_similarity\n",
    "\n",
    "# Sample job description and resumes\n",
    "job_desc = \"Looking for a data scientist skilled in Python, NLP, and machine learning.\"\n",
    "resumes = [\n",
    "    \"Experienced data scientist with strong Python and NLP background.\",\n",
    "    \"Web developer with expertise in React and JavaScript.\",\n",
    "    \"Machine learning engineer skilled in Python, deep learning, and NLP.\"\n",
    "]\n",
    "\n",
    "# Convert text to vectors\n",
    "vectorizer = TfidfVectorizer()\n",
    "vectors = vectorizer.fit_transform([job_desc] + resumes)\n",
    "\n",
    "# Compute cosine similarity of each resume with job description\n",
    "similarities = cosine_similarity(vectors[0:1], vectors[1:]).flatten()\n",
    "\n",
    "# Rank resumes by similarity\n",
    "ranked = sorted(zip(resumes, similarities), key=lambda x: x[1], reverse=True)\n",
    "\n",
    "for resume, score in ranked:\n",
    "    print(f\"Resume: {resume} | Match Score: {score:.2f}\")\n"
   ]
  },
  {
   "cell_type": "code",
   "execution_count": 29,
   "id": "42ffcdd8",
   "metadata": {},
   "outputs": [
    {
     "name": "stdout",
     "output_type": "stream",
     "text": [
      "       Category                                             Resume\n",
      "0  Data Science  Skills * Programming Languages: Python (pandas...\n",
      "1  Data Science  Education Details \\r\\nMay 2013 to May 2017 B.E...\n",
      "2  Data Science  Areas of Interest Deep Learning, Control Syste...\n",
      "3  Data Science  Skills â¢ R â¢ Python â¢ SAP HANA â¢ Table...\n",
      "4  Data Science  Education Details \\r\\n MCA   YMCAUST,  Faridab...\n",
      "\n",
      "Columns in dataset: Index(['Category', 'Resume'], dtype='object')\n",
      "\n",
      "Dataset shape: (962, 2)\n"
     ]
    }
   ],
   "source": [
    "import pandas as pd\n",
    "\n",
    "# Load dataset (change filename if needed)\n",
    "df = pd.read_csv(\"UpdatedResumeDataSet.csv\")\n",
    "\n",
    "# Show first 5 rows\n",
    "print(df.head())\n",
    "\n",
    "# Show column names\n",
    "print(\"\\nColumns in dataset:\", df.columns)\n",
    "\n",
    "# Show dataset shape\n",
    "print(\"\\nDataset shape:\", df.shape)\n"
   ]
  },
  {
   "cell_type": "code",
   "execution_count": 30,
   "id": "2858a617",
   "metadata": {},
   "outputs": [
    {
     "name": "stdout",
     "output_type": "stream",
     "text": [
      "                                              Resume  \\\n",
      "0  Skills * Programming Languages: Python (pandas...   \n",
      "1  Education Details \\r\\nMay 2013 to May 2017 B.E...   \n",
      "2  Areas of Interest Deep Learning, Control Syste...   \n",
      "3  Skills â¢ R â¢ Python â¢ SAP HANA â¢ Table...   \n",
      "4  Education Details \\r\\n MCA   YMCAUST,  Faridab...   \n",
      "\n",
      "                                      cleaned_resume  \n",
      "0  skills  programming languages python pandas nu...  \n",
      "1  education details \\r\\nmay  to may  be   uitrgp...  \n",
      "2  areas of interest deep learning control system...  \n",
      "3  skills â r â python â sap hana â tableau â sap...  \n",
      "4  education details \\r\\n mca   ymcaust  faridaba...  \n"
     ]
    }
   ],
   "source": [
    "import re\n",
    "\n",
    "# Function to clean text\n",
    "def clean_text(text):\n",
    "    text = re.sub(r'http\\S+', '', text)  # remove links\n",
    "    text = re.sub(r'\\d+', '', text)      # remove numbers\n",
    "    text = re.sub(r'[^\\w\\s]', '', text)  # remove punctuation\n",
    "    text = text.lower().strip()          # lowercase + trim\n",
    "    return text\n",
    "\n",
    "# Apply cleaning on resume column\n",
    "df['cleaned_resume'] = df['Resume'].apply(clean_text)\n",
    "\n",
    "# Check result\n",
    "print(df[['Resume', 'cleaned_resume']].head())\n"
   ]
  },
  {
   "cell_type": "code",
   "execution_count": 31,
   "id": "f07fdead",
   "metadata": {},
   "outputs": [
    {
     "name": "stdout",
     "output_type": "stream",
     "text": [
      "TF-IDF shape: (962, 5000)\n"
     ]
    }
   ],
   "source": [
    "from sklearn.feature_extraction.text import TfidfVectorizer\n",
    "\n",
    "# Create TF-IDF vectorizer\n",
    "vectorizer = TfidfVectorizer(stop_words='english', max_features=5000)\n",
    "\n",
    "# Fit and transform resumes\n",
    "X = vectorizer.fit_transform(df['cleaned_resume'])\n",
    "\n",
    "print(\"TF-IDF shape:\", X.shape)\n"
   ]
  },
  {
   "cell_type": "code",
   "execution_count": 32,
   "id": "c44ace49",
   "metadata": {},
   "outputs": [],
   "source": [
    "## Sample resume----\n",
    "\n",
    "job_description = \"\"\"\n",
    "We are looking for a Data Scientist with experience in Python, Machine Learning, and NLP. \n",
    "Candidates should have strong skills in Pandas, Scikit-learn, and data visualization.\n",
    "\"\"\"\n",
    "\n",
    "jd_cleaned = clean_text(job_description)\n"
   ]
  },
  {
   "cell_type": "code",
   "execution_count": 33,
   "id": "8897d295",
   "metadata": {},
   "outputs": [],
   "source": [
    "jd_vector = vectorizer.transform([jd_cleaned])"
   ]
  },
  {
   "cell_type": "code",
   "execution_count": 34,
   "id": "5070aa34",
   "metadata": {},
   "outputs": [
    {
     "name": "stdout",
     "output_type": "stream",
     "text": [
      "\n",
      "Candidate 1 (Score: 0.3728)\n",
      "Skills â¢ Python â¢ Tableau â¢ Data Visualization â¢ R Studio â¢ Machine Learning â¢ Statistics IABAC Certified Data Scientist with versatile experience over 1+ years in managing business, data science consulting and leading innovation projects, bringing business ideas to working real world so ...\n",
      "\n",
      "Candidate 2 (Score: 0.3728)\n",
      "Skills â¢ Python â¢ Tableau â¢ Data Visualization â¢ R Studio â¢ Machine Learning â¢ Statistics IABAC Certified Data Scientist with versatile experience over 1+ years in managing business, data science consulting and leading innovation projects, bringing business ideas to working real world so ...\n",
      "\n",
      "Candidate 3 (Score: 0.3728)\n",
      "Skills â¢ Python â¢ Tableau â¢ Data Visualization â¢ R Studio â¢ Machine Learning â¢ Statistics IABAC Certified Data Scientist with versatile experience over 1+ years in managing business, data science consulting and leading innovation projects, bringing business ideas to working real world so ...\n",
      "\n",
      "Candidate 4 (Score: 0.3728)\n",
      "Skills â¢ Python â¢ Tableau â¢ Data Visualization â¢ R Studio â¢ Machine Learning â¢ Statistics IABAC Certified Data Scientist with versatile experience over 1+ years in managing business, data science consulting and leading innovation projects, bringing business ideas to working real world so ...\n",
      "\n",
      "Candidate 5 (Score: 0.2996)\n",
      "Personal Skills â¢ Ability to quickly grasp technical aspects and willingness to learn â¢ High energy levels & Result oriented. Education Details \n",
      "January 2018 Master of Engineering Computer Technology & Application Bhopal, Madhya Pradesh Truba Institute of Engineering & Information Technology\n",
      "J ...\n"
     ]
    }
   ],
   "source": [
    "from sklearn.metrics.pairwise import cosine_similarity\n",
    "import numpy as np\n",
    "\n",
    "# Calculate similarity scores\n",
    "similarity_scores = cosine_similarity(jd_vector, X).flatten()\n",
    "\n",
    "# Rank candidates (higher = better match)\n",
    "ranked_indices = np.argsort(similarity_scores)[::-1]\n",
    "\n",
    "# Show top 5 candidates\n",
    "top_n = 5\n",
    "for i in range(top_n):\n",
    "    idx = ranked_indices[i]\n",
    "    print(f\"\\nCandidate {i+1} (Score: {similarity_scores[idx]:.4f})\")\n",
    "    print(df['Resume'][idx][:300], \"...\")  # print first 300 chars of resume\n"
   ]
  },
  {
   "cell_type": "code",
   "execution_count": 35,
   "id": "2b151ba5",
   "metadata": {},
   "outputs": [],
   "source": [
    "from sklearn.feature_extraction.text import TfidfVectorizer\n",
    "from sklearn.metrics.pairwise import cosine_similarity\n",
    "\n",
    "# Suppose df[\"Resume\"] has your resumes\n",
    "vectorizer = TfidfVectorizer(stop_words=\"english\")\n",
    "\n",
    "# Fit on resumes + job description\n",
    "all_texts = df[\"Resume\"].tolist() + [job_desc]\n",
    "tfidf_matrix = vectorizer.fit_transform(all_texts)\n",
    "\n",
    "# Compare job description with each resume\n",
    "cosine_similarities = cosine_similarity(\n",
    "    tfidf_matrix[-1],  # last one is job desc\n",
    "    tfidf_matrix[:-1]  # all resumes\n",
    ").flatten()\n"
   ]
  },
  {
   "cell_type": "code",
   "execution_count": 36,
   "id": "cab0fc28",
   "metadata": {},
   "outputs": [
    {
     "name": "stdout",
     "output_type": "stream",
     "text": [
      "                                               Resume      Category  \\\n",
      "17  Education Details \\r\\n B.Tech   Rayat and Bahr...  Data Science   \n",
      "7   Education Details \\r\\n B.Tech   Rayat and Bahr...  Data Science   \n",
      "27  Education Details \\r\\n B.Tech   Rayat and Bahr...  Data Science   \n",
      "37  Education Details \\r\\n B.Tech   Rayat and Bahr...  Data Science   \n",
      "28  Personal Skills â¢ Ability to quickly grasp t...  Data Science   \n",
      "\n",
      "    Match_Score  \n",
      "17     0.292761  \n",
      "7      0.292761  \n",
      "27     0.292761  \n",
      "37     0.292761  \n",
      "28     0.226729  \n"
     ]
    }
   ],
   "source": [
    "results = pd.DataFrame({\n",
    "    \"Resume\": df[\"Resume\"],\n",
    "    \"Category\": df[\"Category\"],\n",
    "    \"Match_Score\": cosine_similarities\n",
    "})\n",
    "\n",
    "# Sort in descending order\n",
    "results = results.sort_values(by=\"Match_Score\", ascending=False)\n",
    "\n",
    "print(results.head())\n"
   ]
  },
  {
   "cell_type": "code",
   "execution_count": 37,
   "id": "48ad6cc9",
   "metadata": {},
   "outputs": [],
   "source": [
    "def rank_candidates(job_desc, resumes, categories):\n",
    "    vectorizer = TfidfVectorizer(stop_words=\"english\")\n",
    "    all_texts = resumes.tolist() + [job_desc]\n",
    "    tfidf_matrix = vectorizer.fit_transform(all_texts)\n",
    "\n",
    "    cosine_similarities = cosine_similarity(\n",
    "        tfidf_matrix[-1], tfidf_matrix[:-1]\n",
    "    ).flatten()\n",
    "\n",
    "    results = pd.DataFrame({\n",
    "        \"Resume\": resumes,\n",
    "        \"Category\": categories,\n",
    "        \"Match_Score\": cosine_similarities\n",
    "    })\n",
    "\n",
    "    results = results.sort_values(by=\"Match_Score\", ascending=False).reset_index(drop=True)\n",
    "    return results\n"
   ]
  },
  {
   "cell_type": "code",
   "execution_count": 38,
   "id": "458b3a4c",
   "metadata": {},
   "outputs": [
    {
     "name": "stdout",
     "output_type": "stream",
     "text": [
      "                                              Resume          Category  \\\n",
      "0  TECHNICAL PROFICIENCIES Platform: Ubuntu/Fedor...  Python Developer   \n",
      "1  TECHNICAL PROFICIENCIES Platform: Ubuntu/Fedor...  Python Developer   \n",
      "2  TECHNICAL PROFICIENCIES Platform: Ubuntu/Fedor...  Python Developer   \n",
      "3  TECHNICAL PROFICIENCIES Platform: Ubuntu/Fedor...  Python Developer   \n",
      "4  TECHNICAL PROFICIENCIES Platform: Ubuntu/Fedor...  Python Developer   \n",
      "\n",
      "   Match_Score  \n",
      "0     0.158097  \n",
      "1     0.158097  \n",
      "2     0.158097  \n",
      "3     0.158097  \n",
      "4     0.158097  \n"
     ]
    }
   ],
   "source": [
    "job_desc = \"Looking for a Python developer with ML experience\"\n",
    "results = rank_candidates(job_desc, df[\"Resume\"], df[\"Category\"])\n",
    "print(results.head())\n"
   ]
  },
  {
   "cell_type": "code",
   "execution_count": 39,
   "id": "7ea26d2c",
   "metadata": {},
   "outputs": [
    {
     "name": "stdout",
     "output_type": "stream",
     "text": [
      "2.3.2\n",
      "[0 1 2 3 4]\n"
     ]
    }
   ],
   "source": [
    "import numpy\n",
    "print(numpy.__version__)\n",
    "print(numpy.arange(5))\n"
   ]
  },
  {
   "cell_type": "code",
   "execution_count": null,
   "id": "90d5a9a4",
   "metadata": {},
   "outputs": [],
   "source": []
  },
  {
   "cell_type": "code",
   "execution_count": null,
   "id": "ebc5f3d2",
   "metadata": {},
   "outputs": [],
   "source": []
  },
  {
   "cell_type": "code",
   "execution_count": null,
   "id": "6f28ed8b",
   "metadata": {},
   "outputs": [],
   "source": []
  },
  {
   "cell_type": "code",
   "execution_count": null,
   "id": "0920bac7",
   "metadata": {},
   "outputs": [],
   "source": []
  },
  {
   "cell_type": "code",
   "execution_count": null,
   "id": "51392448",
   "metadata": {},
   "outputs": [],
   "source": []
  },
  {
   "cell_type": "code",
   "execution_count": null,
   "id": "495d58c7",
   "metadata": {},
   "outputs": [],
   "source": []
  }
 ],
 "metadata": {
  "kernelspec": {
   "display_name": "myvenv",
   "language": "python",
   "name": "python3"
  },
  "language_info": {
   "codemirror_mode": {
    "name": "ipython",
    "version": 3
   },
   "file_extension": ".py",
   "mimetype": "text/x-python",
   "name": "python",
   "nbconvert_exporter": "python",
   "pygments_lexer": "ipython3",
   "version": "3.12.7"
  }
 },
 "nbformat": 4,
 "nbformat_minor": 5
}
